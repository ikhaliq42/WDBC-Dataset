{
 "cells": [
  {
   "cell_type": "markdown",
   "metadata": {},
   "source": [
    "# Analysis of Wisconsin Diagnostic Breast Cancer Data"
   ]
  },
  {
   "cell_type": "markdown",
   "metadata": {},
   "source": [
    "## Imports"
   ]
  },
  {
   "cell_type": "markdown",
   "metadata": {},
   "source": [
    "We'll start with a few general imports that we will be using throughout the notebook. Other more specific imports will be included as and when they are needed."
   ]
  },
  {
   "cell_type": "code",
   "execution_count": 1,
   "metadata": {},
   "outputs": [],
   "source": [
    "import pandas as pd\n",
    "import numpy as np\n",
    "import scipy.stats as stats\n",
    "\n",
    "%matplotlib inline\n",
    "import matplotlib\n",
    "import matplotlib.pyplot as plt\n",
    "plt.rcParams['axes.labelsize'] = 14\n",
    "plt.rcParams['xtick.labelsize'] = 12\n",
    "plt.rcParams['ytick.labelsize'] = 12"
   ]
  },
  {
   "cell_type": "markdown",
   "metadata": {},
   "source": [
    "## Data preparation "
   ]
  },
  {
   "cell_type": "markdown",
   "metadata": {},
   "source": [
    "Lets start by loading the data using pandas. The raw format is a csv file with no headers. We will need to add the headers manually based on the description document provided in the same location as the data in the file 'wdbc.names'. "
   ]
  },
  {
   "cell_type": "code",
   "execution_count": 2,
   "metadata": {},
   "outputs": [],
   "source": [
    "columnNames = ['ID', 'Diagnosis', 'Radius', 'Texture', 'Perimeter', 'Area', 'Smoothness', \n",
    "               'Compactness', 'Concavity', 'ConcavePoints', 'Symmetry', 'FractalDimension', \n",
    "               'seRadius', 'seTexture', 'sePerimeter', 'seArea', 'seSmoothness', 'seCompactness', 'seConcavity', \n",
    "               'seConcavePoints', 'seSymmetry', 'seFractalDimension', 'worstRadius', 'worstTexture', \n",
    "               'worstPerimeter', 'worstArea', 'worstSmoothness', 'worstCompactness', 'worstConcavity', \n",
    "               'worstConcavePoints', 'worstSymmetry', 'worstFractalDimension']\n",
    "\n",
    "dataURL = 'https://archive.ics.uci.edu/ml/machine-learning-databases/breast-cancer-wisconsin/wdbc.data'\n",
    "\n",
    "df = pd.read_csv(dataURL, header=None, names=columnNames)"
   ]
  },
  {
   "cell_type": "markdown",
   "metadata": {},
   "source": [
    "Lets have a quick look at the first few rows to get a general feel for the data."
   ]
  },
  {
   "cell_type": "code",
   "execution_count": 3,
   "metadata": {},
   "outputs": [
    {
     "data": {
      "text/html": [
       "<div>\n",
       "<style scoped>\n",
       "    .dataframe tbody tr th:only-of-type {\n",
       "        vertical-align: middle;\n",
       "    }\n",
       "\n",
       "    .dataframe tbody tr th {\n",
       "        vertical-align: top;\n",
       "    }\n",
       "\n",
       "    .dataframe thead th {\n",
       "        text-align: right;\n",
       "    }\n",
       "</style>\n",
       "<table border=\"1\" class=\"dataframe\">\n",
       "  <thead>\n",
       "    <tr style=\"text-align: right;\">\n",
       "      <th></th>\n",
       "      <th>ID</th>\n",
       "      <th>Diagnosis</th>\n",
       "      <th>Radius</th>\n",
       "      <th>Texture</th>\n",
       "      <th>Perimeter</th>\n",
       "      <th>Area</th>\n",
       "      <th>Smoothness</th>\n",
       "      <th>Compactness</th>\n",
       "      <th>Concavity</th>\n",
       "      <th>ConcavePoints</th>\n",
       "      <th>...</th>\n",
       "      <th>worstRadius</th>\n",
       "      <th>worstTexture</th>\n",
       "      <th>worstPerimeter</th>\n",
       "      <th>worstArea</th>\n",
       "      <th>worstSmoothness</th>\n",
       "      <th>worstCompactness</th>\n",
       "      <th>worstConcavity</th>\n",
       "      <th>worstConcavePoints</th>\n",
       "      <th>worstSymmetry</th>\n",
       "      <th>worstFractalDimension</th>\n",
       "    </tr>\n",
       "  </thead>\n",
       "  <tbody>\n",
       "    <tr>\n",
       "      <th>0</th>\n",
       "      <td>842302</td>\n",
       "      <td>M</td>\n",
       "      <td>17.99</td>\n",
       "      <td>10.38</td>\n",
       "      <td>122.80</td>\n",
       "      <td>1001.0</td>\n",
       "      <td>0.11840</td>\n",
       "      <td>0.27760</td>\n",
       "      <td>0.3001</td>\n",
       "      <td>0.14710</td>\n",
       "      <td>...</td>\n",
       "      <td>25.38</td>\n",
       "      <td>17.33</td>\n",
       "      <td>184.60</td>\n",
       "      <td>2019.0</td>\n",
       "      <td>0.1622</td>\n",
       "      <td>0.6656</td>\n",
       "      <td>0.7119</td>\n",
       "      <td>0.2654</td>\n",
       "      <td>0.4601</td>\n",
       "      <td>0.11890</td>\n",
       "    </tr>\n",
       "    <tr>\n",
       "      <th>1</th>\n",
       "      <td>842517</td>\n",
       "      <td>M</td>\n",
       "      <td>20.57</td>\n",
       "      <td>17.77</td>\n",
       "      <td>132.90</td>\n",
       "      <td>1326.0</td>\n",
       "      <td>0.08474</td>\n",
       "      <td>0.07864</td>\n",
       "      <td>0.0869</td>\n",
       "      <td>0.07017</td>\n",
       "      <td>...</td>\n",
       "      <td>24.99</td>\n",
       "      <td>23.41</td>\n",
       "      <td>158.80</td>\n",
       "      <td>1956.0</td>\n",
       "      <td>0.1238</td>\n",
       "      <td>0.1866</td>\n",
       "      <td>0.2416</td>\n",
       "      <td>0.1860</td>\n",
       "      <td>0.2750</td>\n",
       "      <td>0.08902</td>\n",
       "    </tr>\n",
       "    <tr>\n",
       "      <th>2</th>\n",
       "      <td>84300903</td>\n",
       "      <td>M</td>\n",
       "      <td>19.69</td>\n",
       "      <td>21.25</td>\n",
       "      <td>130.00</td>\n",
       "      <td>1203.0</td>\n",
       "      <td>0.10960</td>\n",
       "      <td>0.15990</td>\n",
       "      <td>0.1974</td>\n",
       "      <td>0.12790</td>\n",
       "      <td>...</td>\n",
       "      <td>23.57</td>\n",
       "      <td>25.53</td>\n",
       "      <td>152.50</td>\n",
       "      <td>1709.0</td>\n",
       "      <td>0.1444</td>\n",
       "      <td>0.4245</td>\n",
       "      <td>0.4504</td>\n",
       "      <td>0.2430</td>\n",
       "      <td>0.3613</td>\n",
       "      <td>0.08758</td>\n",
       "    </tr>\n",
       "    <tr>\n",
       "      <th>3</th>\n",
       "      <td>84348301</td>\n",
       "      <td>M</td>\n",
       "      <td>11.42</td>\n",
       "      <td>20.38</td>\n",
       "      <td>77.58</td>\n",
       "      <td>386.1</td>\n",
       "      <td>0.14250</td>\n",
       "      <td>0.28390</td>\n",
       "      <td>0.2414</td>\n",
       "      <td>0.10520</td>\n",
       "      <td>...</td>\n",
       "      <td>14.91</td>\n",
       "      <td>26.50</td>\n",
       "      <td>98.87</td>\n",
       "      <td>567.7</td>\n",
       "      <td>0.2098</td>\n",
       "      <td>0.8663</td>\n",
       "      <td>0.6869</td>\n",
       "      <td>0.2575</td>\n",
       "      <td>0.6638</td>\n",
       "      <td>0.17300</td>\n",
       "    </tr>\n",
       "    <tr>\n",
       "      <th>4</th>\n",
       "      <td>84358402</td>\n",
       "      <td>M</td>\n",
       "      <td>20.29</td>\n",
       "      <td>14.34</td>\n",
       "      <td>135.10</td>\n",
       "      <td>1297.0</td>\n",
       "      <td>0.10030</td>\n",
       "      <td>0.13280</td>\n",
       "      <td>0.1980</td>\n",
       "      <td>0.10430</td>\n",
       "      <td>...</td>\n",
       "      <td>22.54</td>\n",
       "      <td>16.67</td>\n",
       "      <td>152.20</td>\n",
       "      <td>1575.0</td>\n",
       "      <td>0.1374</td>\n",
       "      <td>0.2050</td>\n",
       "      <td>0.4000</td>\n",
       "      <td>0.1625</td>\n",
       "      <td>0.2364</td>\n",
       "      <td>0.07678</td>\n",
       "    </tr>\n",
       "  </tbody>\n",
       "</table>\n",
       "<p>5 rows × 32 columns</p>\n",
       "</div>"
      ],
      "text/plain": [
       "         ID Diagnosis  Radius  Texture  Perimeter    Area  Smoothness  \\\n",
       "0    842302         M   17.99    10.38     122.80  1001.0     0.11840   \n",
       "1    842517         M   20.57    17.77     132.90  1326.0     0.08474   \n",
       "2  84300903         M   19.69    21.25     130.00  1203.0     0.10960   \n",
       "3  84348301         M   11.42    20.38      77.58   386.1     0.14250   \n",
       "4  84358402         M   20.29    14.34     135.10  1297.0     0.10030   \n",
       "\n",
       "   Compactness  Concavity  ConcavePoints          ...            worstRadius  \\\n",
       "0      0.27760     0.3001        0.14710          ...                  25.38   \n",
       "1      0.07864     0.0869        0.07017          ...                  24.99   \n",
       "2      0.15990     0.1974        0.12790          ...                  23.57   \n",
       "3      0.28390     0.2414        0.10520          ...                  14.91   \n",
       "4      0.13280     0.1980        0.10430          ...                  22.54   \n",
       "\n",
       "   worstTexture  worstPerimeter  worstArea  worstSmoothness  worstCompactness  \\\n",
       "0         17.33          184.60     2019.0           0.1622            0.6656   \n",
       "1         23.41          158.80     1956.0           0.1238            0.1866   \n",
       "2         25.53          152.50     1709.0           0.1444            0.4245   \n",
       "3         26.50           98.87      567.7           0.2098            0.8663   \n",
       "4         16.67          152.20     1575.0           0.1374            0.2050   \n",
       "\n",
       "   worstConcavity  worstConcavePoints  worstSymmetry  worstFractalDimension  \n",
       "0          0.7119              0.2654         0.4601                0.11890  \n",
       "1          0.2416              0.1860         0.2750                0.08902  \n",
       "2          0.4504              0.2430         0.3613                0.08758  \n",
       "3          0.6869              0.2575         0.6638                0.17300  \n",
       "4          0.4000              0.1625         0.2364                0.07678  \n",
       "\n",
       "[5 rows x 32 columns]"
      ]
     },
     "execution_count": 3,
     "metadata": {},
     "output_type": "execute_result"
    }
   ],
   "source": [
    "df.head()"
   ]
  },
  {
   "cell_type": "markdown",
   "metadata": {},
   "source": [
    "We can ignore the ID column as this is not relevant to our purposes. Hence, the first column is 'Diagnosis', which classifies the data into Malignant ('M') or Benign ('B') categories. The remaining columns are all continuous (i.e. float), real valued features."
   ]
  },
  {
   "cell_type": "markdown",
   "metadata": {},
   "source": [
    "Lets now check if there are any missing values."
   ]
  },
  {
   "cell_type": "code",
   "execution_count": 4,
   "metadata": {},
   "outputs": [
    {
     "data": {
      "text/plain": [
       "ID                       0\n",
       "Diagnosis                0\n",
       "Radius                   0\n",
       "Texture                  0\n",
       "Perimeter                0\n",
       "Area                     0\n",
       "Smoothness               0\n",
       "Compactness              0\n",
       "Concavity                0\n",
       "ConcavePoints            0\n",
       "Symmetry                 0\n",
       "FractalDimension         0\n",
       "seRadius                 0\n",
       "seTexture                0\n",
       "sePerimeter              0\n",
       "seArea                   0\n",
       "seSmoothness             0\n",
       "seCompactness            0\n",
       "seConcavity              0\n",
       "seConcavePoints          0\n",
       "seSymmetry               0\n",
       "seFractalDimension       0\n",
       "worstRadius              0\n",
       "worstTexture             0\n",
       "worstPerimeter           0\n",
       "worstArea                0\n",
       "worstSmoothness          0\n",
       "worstCompactness         0\n",
       "worstConcavity           0\n",
       "worstConcavePoints       0\n",
       "worstSymmetry            0\n",
       "worstFractalDimension    0\n",
       "dtype: int64"
      ]
     },
     "execution_count": 4,
     "metadata": {},
     "output_type": "execute_result"
    }
   ],
   "source": [
    "df.isnull().sum()"
   ]
  },
  {
   "cell_type": "markdown",
   "metadata": {},
   "source": [
    "Fortunately, there is no missing data. Let's continue with the data preparation - the next step is to split the data into training and test sets. "
   ]
  },
  {
   "cell_type": "markdown",
   "metadata": {},
   "source": [
    "First, set the number of training and test samples"
   ]
  },
  {
   "cell_type": "code",
   "execution_count": 5,
   "metadata": {},
   "outputs": [],
   "source": [
    "n_samples, n_features = df.shape\n",
    "train_test_ratio = 0.7\n",
    "n_training_samples = int(n_samples * 0.7)\n",
    "n_test_samples = n_samples - n_training_samples"
   ]
  },
  {
   "cell_type": "markdown",
   "metadata": {},
   "source": [
    "Shuffle the data and split into training and test sets."
   ]
  },
  {
   "cell_type": "code",
   "execution_count": 6,
   "metadata": {},
   "outputs": [],
   "source": [
    "dfShuffled = df.sample(frac=1)\n",
    "dfTrain = dfShuffled.iloc[0:n_training_samples,:]\n",
    "dfTest = dfShuffled.iloc[n_training_samples:n_samples,:]\n",
    "dfTrainX = dfShuffled.iloc[0:n_training_samples,2:n_features]\n",
    "dfTestX = dfShuffled.iloc[n_training_samples:n_samples,2:n_features]\n",
    "dfTrainY = dfShuffled['Diagnosis'].iloc[0:n_training_samples]\n",
    "dfTestY = dfShuffled['Diagnosis'].iloc[n_training_samples:n_samples]"
   ]
  },
  {
   "cell_type": "markdown",
   "metadata": {},
   "source": [
    "Convert data to arrays"
   ]
  },
  {
   "cell_type": "code",
   "execution_count": 7,
   "metadata": {},
   "outputs": [],
   "source": [
    "X_train = dfTrainX.values.astype(float)\n",
    "X_test = dfTestX.values.astype(float)\n",
    "y_train = (dfTrainY.values == 'M').astype(int)\n",
    "y_test = (dfTestY.values == 'M').astype(int)"
   ]
  },
  {
   "cell_type": "markdown",
   "metadata": {},
   "source": [
    "Confirm data is of the correct shape - 398 training samples, 171 test samples, 30 features."
   ]
  },
  {
   "cell_type": "code",
   "execution_count": 8,
   "metadata": {},
   "outputs": [
    {
     "data": {
      "text/plain": [
       "((398, 30), (171, 30))"
      ]
     },
     "execution_count": 8,
     "metadata": {},
     "output_type": "execute_result"
    }
   ],
   "source": [
    "X_train.shape , X_test.shape"
   ]
  },
  {
   "cell_type": "markdown",
   "metadata": {},
   "source": [
    "Do some checks to confirm that data is split correctly."
   ]
  },
  {
   "cell_type": "markdown",
   "metadata": {},
   "source": [
    "Check that the total number of malignant labeled samples across training and test sets is equal to the original data."
   ]
  },
  {
   "cell_type": "code",
   "execution_count": 9,
   "metadata": {},
   "outputs": [
    {
     "data": {
      "text/plain": [
       "True"
      ]
     },
     "execution_count": 9,
     "metadata": {},
     "output_type": "execute_result"
    }
   ],
   "source": [
    "y_train.sum() + y_test.sum() == (df['Diagnosis'] == 'M').sum()"
   ]
  },
  {
   "cell_type": "markdown",
   "metadata": {},
   "source": [
    "Pick a feature and make sure the sum of all samples across training and test sets equals the sum in the original data."
   ]
  },
  {
   "cell_type": "code",
   "execution_count": 10,
   "metadata": {},
   "outputs": [
    {
     "data": {
      "text/plain": [
       "True"
      ]
     },
     "execution_count": 10,
     "metadata": {},
     "output_type": "execute_result"
    }
   ],
   "source": [
    "abs(X_train[:,0].sum() + X_test[:,0].sum() - df['Radius'].sum()) < 0.0000000001"
   ]
  },
  {
   "cell_type": "markdown",
   "metadata": {},
   "source": [
    "## Visualisations "
   ]
  },
  {
   "cell_type": "markdown",
   "metadata": {},
   "source": [
    "Before we begin to analyse the data it is almost always useful to visualise it. 2D scatter plots allow us to visualise how the categories are spread out amongst two given features. Since there are too many features to plot every possible combination, we will just pick a few pairings at random."
   ]
  },
  {
   "cell_type": "markdown",
   "metadata": {},
   "source": [
    "First, some helper functions for draw scatter plots"
   ]
  },
  {
   "cell_type": "code",
   "execution_count": 11,
   "metadata": {},
   "outputs": [],
   "source": [
    "def plot_data_np(X1, X2, Y, x1Label, x2Label, ax):\n",
    "    \n",
    "    title = x1Label + ' vs ' + x2Label\n",
    "    \n",
    "    x1Min = X1.min()\n",
    "    x1Max = X1.max()\n",
    "    x2Min = X2.min()\n",
    "    x2Max = X2.max()\n",
    "    \n",
    "    ax.plot(X1[Y==0], X2[Y==0], \"bs\")    \n",
    "    ax.plot(X1[Y==1], X2[Y==1], \"r^\")\n",
    "    ax.axis([x1Min, x1Max, x2Min, x2Max])\n",
    "    ax.set_xlabel(x1Label)\n",
    "    ax.set_ylabel(x2Label)\n",
    "    ax.set_title(title)\n",
    "    \n",
    "def plot_data(df, x1Label, x2Label, ax):\n",
    "    \n",
    "    plot_data_np(df[x1Label].values, df[x2Label].values, (df['Diagnosis'].values == 'M')*1, x1Label, x2Label, ax)"
   ]
  },
  {
   "cell_type": "markdown",
   "metadata": {},
   "source": [
    "Now lets plot some examples. We are going to try:\n",
    "1. Radius vs Perimeter\n",
    "2. Area vs Symmetry\n",
    "3. Compactness vs Concavity\n",
    "4. Radius vs ConcavePoint"
   ]
  },
  {
   "cell_type": "code",
   "execution_count": 12,
   "metadata": {},
   "outputs": [
    {
     "data": {
      "text/plain": [
       "<Figure size 432x288 with 0 Axes>"
      ]
     },
     "metadata": {},
     "output_type": "display_data"
    },
    {
     "data": {
      "image/png": "[encoded data removed]",
      "text/plain": [
       "<Figure size 1080x1080 with 4 Axes>"
      ]
     },
     "metadata": {},
     "output_type": "display_data"
    }
   ],
   "source": [
    "plt.figure(1)\n",
    "fig, axarr = plt.subplots(2, 2)\n",
    "plot_data(df, 'Radius', 'Perimeter', axarr[0, 0])\n",
    "plot_data(df, 'Area', 'Symmetry', axarr[0, 1])\n",
    "plot_data(df, 'Compactness', 'Concavity', axarr[1, 0])\n",
    "plot_data(df, 'Radius', 'ConcavePoints', axarr[1, 1])\n",
    "fig.set_size_inches(15, 15)\n",
    "plt.show()"
   ]
  },
  {
   "cell_type": "markdown",
   "metadata": {},
   "source": [
    "We can see that the classes are approximately linearly separable in some cases, although there is considerable overlap. Radius vs perimeter is quite striking because of the clearly linear relationship between the two variables, however, this is not relevant for classification. It would be useful for linear regression but that is not our goal here. "
   ]
  },
  {
   "cell_type": "markdown",
   "metadata": {},
   "source": [
    "## Part 1: Mean, Median and Variance of Perimeter "
   ]
  },
  {
   "cell_type": "markdown",
   "metadata": {},
   "source": [
    "The mean, median and standard deviation can easily be obtained use the Dataframe.description() method provided by the Pandas library.\n",
    "Mean is given as 'mean', standard deviation as 'std', and the median by '50%' (i.e. the 50th percentile)."
   ]
  },
  {
   "cell_type": "code",
   "execution_count": 13,
   "metadata": {},
   "outputs": [
    {
     "data": {
      "text/plain": [
       "count    569.000000\n",
       "mean      91.969033\n",
       "std       24.298981\n",
       "min       43.790000\n",
       "25%       75.170000\n",
       "50%       86.240000\n",
       "75%      104.100000\n",
       "max      188.500000\n",
       "Name: Perimeter, dtype: float64"
      ]
     },
     "execution_count": 13,
     "metadata": {},
     "output_type": "execute_result"
    }
   ],
   "source": [
    "dfTrainX.append(dfTestX)['Perimeter'].describe()"
   ]
  },
  {
   "cell_type": "markdown",
   "metadata": {},
   "source": [
    "## Part 2: Distribution of Radius"
   ]
  },
  {
   "cell_type": "markdown",
   "metadata": {},
   "source": [
    "### Histogram "
   ]
  },
  {
   "cell_type": "markdown",
   "metadata": {},
   "source": [
    "We want to examine the distribution of the feature 'Radius', and, in particular, whether it appears to be normally distributed. Again, visualisation is a very useful starting point. In this case, a histogram ought to be quite informative..."
   ]
  },
  {
   "cell_type": "markdown",
   "metadata": {},
   "source": [
    "First, pull in the data from the dataframe and calculate, mean, standard deviation, min and max."
   ]
  },
  {
   "cell_type": "code",
   "execution_count": 14,
   "metadata": {},
   "outputs": [],
   "source": [
    "radii = df['Radius'].values\n",
    "mean = df['Radius'].mean()\n",
    "std = df['Radius'].std()\n",
    "minRadius, maxRadius = np.min(radii) , np.max(radii)"
   ]
  },
  {
   "cell_type": "markdown",
   "metadata": {},
   "source": [
    "Now plot the data as a histogram. In addition, we are going to generate some random samples from a normal distribution with the same mean and standard deviation and plot it on the same graph for comparison."
   ]
  },
  {
   "cell_type": "code",
   "execution_count": 15,
   "metadata": {
    "scrolled": true
   },
   "outputs": [
    {
     "data": {
      "image/png": "[encoded data removed]",
      "text/plain": [
       "<Figure size 432x288 with 1 Axes>"
      ]
     },
     "metadata": {},
     "output_type": "display_data"
    }
   ],
   "source": [
    "import random\n",
    "\n",
    "actual_samples = df['Radius'].values\n",
    "norm_samples = [random.gauss(mean, std) for _ in range(n_samples)]\n",
    "\n",
    "plt.figure(2)\n",
    "plt.hist(actual_samples, 50, alpha=0.75, label='Actual', density=False, color='b')\n",
    "plt.hist(norm_samples, 50, alpha=0.25, label='Normal Distribution', density=False, color='g')\n",
    "plt.legend(loc='upper right')\n",
    "plt.xlabel('Radius')\n",
    "plt.ylabel('Frequency')\n",
    "plt.show()"
   ]
  },
  {
   "cell_type": "markdown",
   "metadata": {},
   "source": [
    "The actual data is in blue, and the sampled normal distribution is in green. As we can see, there is a visible discrepancy between the two. The actual distibution looks skewed to the left - a normal distribution should be symmetric."
   ]
  },
  {
   "cell_type": "markdown",
   "metadata": {},
   "source": [
    "### Skewness "
   ]
  },
  {
   "cell_type": "markdown",
   "metadata": {},
   "source": [
    "Following on from the observations above, we can measure how much the data is skewed using the skew metric provided by Pandas. Zero skew means a symmetric distribution."
   ]
  },
  {
   "cell_type": "code",
   "execution_count": 16,
   "metadata": {},
   "outputs": [
    {
     "data": {
      "text/plain": [
       "0.9423795716730992"
      ]
     },
     "execution_count": 16,
     "metadata": {},
     "output_type": "execute_result"
    }
   ],
   "source": [
    "df['Radius'].skew()"
   ]
  },
  {
   "cell_type": "markdown",
   "metadata": {},
   "source": [
    "The skew is quite significant, which suggests that Radius not normally distributed."
   ]
  },
  {
   "cell_type": "markdown",
   "metadata": {},
   "source": [
    "### Formal test of fit "
   ]
  },
  {
   "cell_type": "markdown",
   "metadata": {},
   "source": [
    "SciPy has a built in function to test normality. It is based on D’Agostino and Pearson’s test for normality."
   ]
  },
  {
   "cell_type": "code",
   "execution_count": 17,
   "metadata": {},
   "outputs": [
    {
     "data": {
      "text/plain": [
       "NormaltestResult(statistic=73.17938185797058, pvalue=1.286172249506454e-16)"
      ]
     },
     "execution_count": 17,
     "metadata": {},
     "output_type": "execute_result"
    }
   ],
   "source": [
    "stats.normaltest(radii)"
   ]
  },
  {
   "cell_type": "markdown",
   "metadata": {},
   "source": [
    "We would expect the p-value to be greater than 0.05 to be able to reasonably say that Radius us normally distributed. However, it is nowhere near that value, so we need to reject the (null) hypothesis that this feature is normally distributed."
   ]
  },
  {
   "cell_type": "markdown",
   "metadata": {},
   "source": [
    "### Alternative distributions "
   ]
  },
  {
   "cell_type": "markdown",
   "metadata": {},
   "source": [
    "If the data is not normally distributedm then what alternatives are there? There are many skewed distributions that we could choose from, but as an example we are going to look at just one - the Gamma distrubtion."
   ]
  },
  {
   "cell_type": "markdown",
   "metadata": {},
   "source": [
    "The prbability density function (pdf) of the gamma distribution is characterised be the parameters alpha and beta. Now, wWe know that the mean and variance of a variable X which has a gamma distribution are:\n",
    "\n",
    "$$E(X) = \\alpha\\beta$$\n",
    "$$Var(X) = \\alpha\\beta^2$$\n",
    "\n",
    "Hence, we can easily calculate alpha and beta as follows:"
   ]
  },
  {
   "cell_type": "code",
   "execution_count": 18,
   "metadata": {},
   "outputs": [],
   "source": [
    "beta = std ** 2 / mean\n",
    "alpha = mean / beta"
   ]
  },
  {
   "cell_type": "markdown",
   "metadata": {},
   "source": [
    "And now we can generate some samples from a gamma distribution."
   ]
  },
  {
   "cell_type": "code",
   "execution_count": 19,
   "metadata": {},
   "outputs": [],
   "source": [
    "gamma_samples = [random.gammavariate(alpha, beta) for _ in range(n_samples)]"
   ]
  },
  {
   "cell_type": "markdown",
   "metadata": {},
   "source": [
    "Let's plot these against the data to see how they compare."
   ]
  },
  {
   "cell_type": "code",
   "execution_count": 20,
   "metadata": {
    "scrolled": true
   },
   "outputs": [
    {
     "data": {
      "image/png": "[encoded data removed]",
      "text/plain": [
       "<Figure size 432x288 with 1 Axes>"
      ]
     },
     "metadata": {},
     "output_type": "display_data"
    }
   ],
   "source": [
    "plt.figure(3)\n",
    "plt.hist(actual_samples, 50, alpha=0.75, label='Actual', density=False, color='b')\n",
    "plt.hist(gamma_samples, 50, alpha=0.25, label='Gamma Distribution', density=False, color='g')\n",
    "plt.legend(loc='upper right')\n",
    "plt.xlabel('Radius')\n",
    "plt.ylabel('Frequency')\n",
    "plt.show()"
   ]
  },
  {
   "cell_type": "markdown",
   "metadata": {},
   "source": [
    "This looks slightly more promising, although there are still some large differences in the 15-20 range. In a more detailed analysis we would look at some more distributions and formally analyse them for goodness of fit (e.g. using Chi squared test of fit, or Kolmogorov-Smirnov test, etc), however we will stop at this point and go on to look at some classification algorithms."
   ]
  },
  {
   "cell_type": "markdown",
   "metadata": {},
   "source": [
    "## Part 3: Train some classifiers"
   ]
  },
  {
   "cell_type": "markdown",
   "metadata": {},
   "source": [
    "In the following section we will be making use of some pre-defined classifiers from the Scikit-Learn library."
   ]
  },
  {
   "cell_type": "markdown",
   "metadata": {},
   "source": [
    "### Dumb classifier "
   ]
  },
  {
   "cell_type": "markdown",
   "metadata": {},
   "source": [
    "First, let's create a dumb clasifier as a baseline. The dumb classifier simply chooses classes at random with no regards for the features. "
   ]
  },
  {
   "cell_type": "code",
   "execution_count": 21,
   "metadata": {},
   "outputs": [],
   "source": [
    "y_pred_dumb = np.random.randint(2, size=y_test.shape[0])"
   ]
  },
  {
   "cell_type": "code",
   "execution_count": 22,
   "metadata": {},
   "outputs": [],
   "source": [
    "from sklearn import metrics"
   ]
  },
  {
   "cell_type": "markdown",
   "metadata": {},
   "source": [
    "We will use the F1-score as a measure of model performance. It is a useful, concise metric for indicating how 'good' a classifier is, combining both precision and recall. A perfect F1 score is 1. As we can see, the dumb classifier is far from this value:"
   ]
  },
  {
   "cell_type": "code",
   "execution_count": 23,
   "metadata": {},
   "outputs": [
    {
     "data": {
      "text/plain": [
       "0.38961038961038963"
      ]
     },
     "execution_count": 23,
     "metadata": {},
     "output_type": "execute_result"
    }
   ],
   "source": [
    "metrics.f1_score(y_test, y_pred_dumb)"
   ]
  },
  {
   "cell_type": "markdown",
   "metadata": {},
   "source": [
    "### Logistic Regression "
   ]
  },
  {
   "cell_type": "markdown",
   "metadata": {},
   "source": [
    "Now let's try a simple logistic regression using just two features."
   ]
  },
  {
   "cell_type": "markdown",
   "metadata": {},
   "source": [
    "#### Using two features "
   ]
  },
  {
   "cell_type": "code",
   "execution_count": 24,
   "metadata": {},
   "outputs": [],
   "source": [
    "from sklearn.linear_model import LogisticRegression"
   ]
  },
  {
   "cell_type": "markdown",
   "metadata": {},
   "source": [
    "Select two features:"
   ]
  },
  {
   "cell_type": "code",
   "execution_count": 25,
   "metadata": {},
   "outputs": [],
   "source": [
    "featureIndices = (3,8) # Area and symmetry"
   ]
  },
  {
   "cell_type": "markdown",
   "metadata": {},
   "source": [
    "Train a logistic classifier on the training data:"
   ]
  },
  {
   "cell_type": "code",
   "execution_count": 26,
   "metadata": {},
   "outputs": [
    {
     "data": {
      "text/plain": [
       "LogisticRegression(C=1, class_weight=None, dual=False, fit_intercept=True,\n",
       "          intercept_scaling=1, max_iter=100, multi_class='ovr', n_jobs=1,\n",
       "          penalty='l2', random_state=42, solver='liblinear', tol=0.0001,\n",
       "          verbose=0, warm_start=False)"
      ]
     },
     "execution_count": 26,
     "metadata": {},
     "output_type": "execute_result"
    }
   ],
   "source": [
    "logisticClassifier = LogisticRegression(C=1, random_state=42)\n",
    "logisticClassifier.fit(X_train[:,featureIndices], y_train)"
   ]
  },
  {
   "cell_type": "markdown",
   "metadata": {},
   "source": [
    "Get the predictions of this classifer on the test data:"
   ]
  },
  {
   "cell_type": "code",
   "execution_count": 27,
   "metadata": {},
   "outputs": [],
   "source": [
    "y_pred_logistic = logisticClassifier.predict(X_test[:,featureIndices])"
   ]
  },
  {
   "cell_type": "markdown",
   "metadata": {},
   "source": [
    "Evaluate using the F1-score:"
   ]
  },
  {
   "cell_type": "code",
   "execution_count": 28,
   "metadata": {},
   "outputs": [
    {
     "data": {
      "text/plain": [
       "0.8411214953271029"
      ]
     },
     "execution_count": 28,
     "metadata": {},
     "output_type": "execute_result"
    }
   ],
   "source": [
    "metrics.f1_score(y_test, y_pred_logistic)"
   ]
  },
  {
   "cell_type": "markdown",
   "metadata": {},
   "source": [
    "A lot better than the dumb classifier, but there is room for improvement..."
   ]
  },
  {
   "cell_type": "markdown",
   "metadata": {},
   "source": [
    "We can plot the decision boundary of this classifier against the data. Remember that the desicion boundary in a ligistic classifier is when: \n",
    "\n",
    "$$w_0  + w_1x_1 + w_2x_2 = 0$$"
   ]
  },
  {
   "cell_type": "code",
   "execution_count": 29,
   "metadata": {},
   "outputs": [],
   "source": [
    "def plot_boundary_np(w0, w1, w2, X1, X2, Y, ax):\n",
    "       \n",
    "    x1Min = X1.min()\n",
    "    x1Max = X1.max()\n",
    "    x2Min = X2.min()\n",
    "    x2Max = X2.max()\n",
    "    x1vals = np.linspace(x1Min, x1Max, 100)                  \n",
    "    x2vals = -(w1 * x1vals + w0) / w2\n",
    "    ax.axis([x1Min, x1Max, x2Min, x2Max])\n",
    "    ax.plot(x1vals, x2vals, \"k-\")"
   ]
  },
  {
   "cell_type": "code",
   "execution_count": 30,
   "metadata": {},
   "outputs": [
    {
     "data": {
      "text/plain": [
       "<Figure size 432x288 with 0 Axes>"
      ]
     },
     "metadata": {},
     "output_type": "display_data"
    },
    {
     "data": {
      "image/png": "[encoded data removed]",
      "text/plain": [
       "<Figure size 360x360 with 1 Axes>"
      ]
     },
     "metadata": {},
     "output_type": "display_data"
    }
   ],
   "source": [
    "w0 = logisticClassifier.intercept_\n",
    "w = logisticClassifier.coef_[0]\n",
    "X1 = X_test[:,featureIndices[0]]\n",
    "X2 = X_test[:,featureIndices[1]]\n",
    "Y = y_test\n",
    "x1Label = dfTrainX.columns.values[featureIndices[0]]\n",
    "x2Label = dfTrainX.columns.values[featureIndices[1]]\n",
    "\n",
    "plt.figure(3)\n",
    "fig, axarr = plt.subplots(1, 1)\n",
    "plot_data_np(X1, X2, Y, x1Label, x2Label, axarr)\n",
    "plot_boundary_np(w0, w[0], w[0], X1, X2, Y, axarr)\n",
    "fig.set_size_inches(5, 5)\n",
    "plt.show()"
   ]
  },
  {
   "cell_type": "markdown",
   "metadata": {},
   "source": [
    "This seems like a reasonable way to split the data, but one would have though a more sloped boundary would have been more effecive. Moving on..."
   ]
  },
  {
   "cell_type": "markdown",
   "metadata": {},
   "source": [
    "#### Using all features "
   ]
  },
  {
   "cell_type": "markdown",
   "metadata": {},
   "source": [
    "Now we are going to train the logistic classifier using all of the features."
   ]
  },
  {
   "cell_type": "code",
   "execution_count": 31,
   "metadata": {},
   "outputs": [
    {
     "data": {
      "text/plain": [
       "LogisticRegression(C=1, class_weight=None, dual=False, fit_intercept=True,\n",
       "          intercept_scaling=1, max_iter=100, multi_class='ovr', n_jobs=1,\n",
       "          penalty='l2', random_state=42, solver='liblinear', tol=0.0001,\n",
       "          verbose=0, warm_start=False)"
      ]
     },
     "execution_count": 31,
     "metadata": {},
     "output_type": "execute_result"
    }
   ],
   "source": [
    "logisticClassifier = LogisticRegression(C=1, random_state=42)\n",
    "logisticClassifier.fit(X_train, y_train)"
   ]
  },
  {
   "cell_type": "code",
   "execution_count": 32,
   "metadata": {},
   "outputs": [],
   "source": [
    "y_pred_logistic = logisticClassifier.predict(X_test)"
   ]
  },
  {
   "cell_type": "code",
   "execution_count": 33,
   "metadata": {},
   "outputs": [
    {
     "data": {
      "text/plain": [
       "0.9549549549549549"
      ]
     },
     "execution_count": 33,
     "metadata": {},
     "output_type": "execute_result"
    }
   ],
   "source": [
    "metrics.f1_score(y_test, y_pred_logistic)"
   ]
  },
  {
   "cell_type": "markdown",
   "metadata": {},
   "source": [
    "Another large improvement, we have crept into the nineties now. Next stop - Support Vector Machines (SVM)."
   ]
  },
  {
   "cell_type": "markdown",
   "metadata": {},
   "source": [
    "### Linear SVM using two features"
   ]
  },
  {
   "cell_type": "markdown",
   "metadata": {},
   "source": [
    "Lets try a linear SWM classifier using the same two features that we tried above,"
   ]
  },
  {
   "cell_type": "code",
   "execution_count": 34,
   "metadata": {},
   "outputs": [],
   "source": [
    "from sklearn.svm import SVC\n",
    "from sklearn.pipeline import Pipeline\n",
    "from sklearn.preprocessing import StandardScaler"
   ]
  },
  {
   "cell_type": "markdown",
   "metadata": {},
   "source": [
    "Data must be equally scaled in order for SVM's to be trained successfully, so we we make use of the SciKit-Learn Pipelines feature to add this in before training the model."
   ]
  },
  {
   "cell_type": "code",
   "execution_count": 35,
   "metadata": {},
   "outputs": [
    {
     "data": {
      "text/plain": [
       "Pipeline(memory=None,\n",
       "     steps=[('scaler', StandardScaler(copy=True, with_mean=True, with_std=True)), ('linearSVC', SVC(C=1.0, cache_size=200, class_weight=None, coef0=0.0,\n",
       "  decision_function_shape='ovr', degree=3, gamma='auto', kernel='linear',\n",
       "  max_iter=-1, probability=False, random_state=None, shrinking=True,\n",
       "  tol=0.001, verbose=False))])"
      ]
     },
     "execution_count": 35,
     "metadata": {},
     "output_type": "execute_result"
    }
   ],
   "source": [
    "linearSVMPipeline = Pipeline([(\"scaler\", StandardScaler()),('linearSVC',SVC(kernel=\"linear\", C=1.0))])\n",
    "linearSVMPipeline.fit(X_train[:,featureIndices], y_train)"
   ]
  },
  {
   "cell_type": "markdown",
   "metadata": {},
   "source": [
    "Now get the model's predictions on the test data and calclate the F1-score:"
   ]
  },
  {
   "cell_type": "code",
   "execution_count": 36,
   "metadata": {},
   "outputs": [],
   "source": [
    "y_pred_linear_SVM = linearSVMPipeline.predict(X_test[:,featureIndices])"
   ]
  },
  {
   "cell_type": "code",
   "execution_count": 37,
   "metadata": {},
   "outputs": [
    {
     "data": {
      "text/plain": [
       "0.8571428571428571"
      ]
     },
     "execution_count": 37,
     "metadata": {},
     "output_type": "execute_result"
    }
   ],
   "source": [
    "metrics.f1_score(y_test, y_pred_linear_SVM)"
   ]
  },
  {
   "cell_type": "markdown",
   "metadata": {},
   "source": [
    "This is better than the two-feature logistic classifer. It might be useful to plot the decision boundary to see why..."
   ]
  },
  {
   "cell_type": "code",
   "execution_count": 38,
   "metadata": {},
   "outputs": [],
   "source": [
    "def plot_svc_decision_boundary_two_features(scaler, classifier, X_test, Y_test, x1Label, x2Label, ax):\n",
    "    \n",
    "    X_test_scaled = scaler.fit_transform(X_test)\n",
    "    X1 = X_test_scaled[:,0]\n",
    "    X2 = X_test_scaled[:,1]\n",
    "    x1min = X1.min()\n",
    "    x1max = X1.max()\n",
    "    x2min = X2.min()\n",
    "    x2max = X2.max()\n",
    "    Y = Y_test\n",
    "    \n",
    "    # Plot the data points first\n",
    "    ax.plot(X1[Y==0], X2[Y==0], \"bs\")    \n",
    "    ax.plot(X1[Y==1], X2[Y==1], \"r^\")\n",
    "    \n",
    "    # Now plot decision boundary\n",
    "    w = classifier.coef_[0]\n",
    "    w0 = classifier.intercept_[0]\n",
    "\n",
    "    x0 = np.linspace(x1min, x1max, 200)\n",
    "    x1 = -w[0]/w[1] * x0 - w0/w[1]\n",
    "\n",
    "    margin = 1/w[1]\n",
    "    gutter_up = x1 + margin\n",
    "    gutter_down = x1 - margin\n",
    "\n",
    "    ax.plot(x0, x1, \"k-\", linewidth=2)\n",
    "    ax.plot(x0, gutter_up, \"k--\", linewidth=2)\n",
    "    ax.plot(x0, gutter_down, \"k--\", linewidth=2)\n",
    "    \n",
    "    ax.axis([x1min, x1max, x2min, x2max])\n",
    "    ax.set_xlabel(x1Label)\n",
    "    ax.set_ylabel(x2Label)\n",
    "    ax.set_title(x1Label + ' vs ' + x2Label)"
   ]
  },
  {
   "cell_type": "code",
   "execution_count": 39,
   "metadata": {},
   "outputs": [
    {
     "data": {
      "text/plain": [
       "<Figure size 432x288 with 0 Axes>"
      ]
     },
     "metadata": {},
     "output_type": "display_data"
    },
    {
     "data": {
      "image/png": "[encoded data removed]",
      "text/plain": [
       "<Figure size 432x288 with 1 Axes>"
      ]
     },
     "metadata": {},
     "output_type": "display_data"
    }
   ],
   "source": [
    "x1Label = dfTrainX.columns.values[featureIndices[0]]\n",
    "x2Label = dfTrainX.columns.values[featureIndices[1]]\n",
    "plt.figure(4)\n",
    "fig, ax = plt.subplots(1, 1)\n",
    "plot_svc_decision_boundary_two_features(linearSVMPipeline.named_steps['scaler'], \n",
    "                                        linearSVMPipeline.named_steps['linearSVC'], \n",
    "                                        X_test[:,featureIndices], y_test, x1Label, x2Label, ax)"
   ]
  },
  {
   "cell_type": "markdown",
   "metadata": {},
   "source": [
    "As suspected, a sloped boundary is indeed more effective, and the SVM has managed to discover this. The dashed lines represent the optimal margins found by the classifier."
   ]
  },
  {
   "cell_type": "markdown",
   "metadata": {},
   "source": [
    "### Linear SVM using all features"
   ]
  },
  {
   "cell_type": "markdown",
   "metadata": {},
   "source": [
    "Now let's repeat the above with all features."
   ]
  },
  {
   "cell_type": "code",
   "execution_count": 40,
   "metadata": {},
   "outputs": [
    {
     "data": {
      "text/plain": [
       "Pipeline(memory=None,\n",
       "     steps=[('scaler', StandardScaler(copy=True, with_mean=True, with_std=True)), ('linearSVC', SVC(C=1.0, cache_size=200, class_weight=None, coef0=0.0,\n",
       "  decision_function_shape='ovr', degree=3, gamma='auto', kernel='linear',\n",
       "  max_iter=-1, probability=False, random_state=None, shrinking=True,\n",
       "  tol=0.001, verbose=False))])"
      ]
     },
     "execution_count": 40,
     "metadata": {},
     "output_type": "execute_result"
    }
   ],
   "source": [
    "linearSVMPipeline = Pipeline([(\"scaler\", StandardScaler()),('linearSVC',SVC(kernel=\"linear\", C=1.0))])\n",
    "linearSVMPipeline.fit(X_train, y_train)"
   ]
  },
  {
   "cell_type": "code",
   "execution_count": 41,
   "metadata": {},
   "outputs": [],
   "source": [
    "y_pred_linear_SVM = linearSVMPipeline.predict(X_test)"
   ]
  },
  {
   "cell_type": "code",
   "execution_count": 42,
   "metadata": {},
   "outputs": [
    {
     "data": {
      "text/plain": [
       "0.9724770642201834"
      ]
     },
     "execution_count": 42,
     "metadata": {},
     "output_type": "execute_result"
    }
   ],
   "source": [
    "metrics.f1_score(y_test, y_pred_linear_SVM)"
   ]
  },
  {
   "cell_type": "markdown",
   "metadata": {},
   "source": [
    "This is the best result so far - we are almost at 99%"
   ]
  },
  {
   "cell_type": "markdown",
   "metadata": {},
   "source": [
    "### Kernel SVM using all features"
   ]
  },
  {
   "cell_type": "markdown",
   "metadata": {},
   "source": [
    "Finally, let's try using a polynomial kernel with degree 1 to see if that does even better."
   ]
  },
  {
   "cell_type": "code",
   "execution_count": 43,
   "metadata": {},
   "outputs": [],
   "source": [
    "from sklearn.preprocessing import PolynomialFeatures"
   ]
  },
  {
   "cell_type": "code",
   "execution_count": 44,
   "metadata": {},
   "outputs": [
    {
     "data": {
      "text/plain": [
       "Pipeline(memory=None,\n",
       "     steps=[('scaler', StandardScaler(copy=True, with_mean=True, with_std=True)), ('KernelSVC', SVC(C=1.0, cache_size=200, class_weight=None, coef0=0.0,\n",
       "  decision_function_shape='ovr', degree=1, gamma='auto', kernel='poly',\n",
       "  max_iter=-1, probability=False, random_state=None, shrinking=True,\n",
       "  tol=0.001, verbose=False))])"
      ]
     },
     "execution_count": 44,
     "metadata": {},
     "output_type": "execute_result"
    }
   ],
   "source": [
    "kernelSVMPipeline = Pipeline([(\"scaler\", StandardScaler())\n",
    "                                ,('KernelSVC',SVC(kernel=\"poly\", C=1.0, degree=1))])\n",
    "kernelSVMPipeline.fit(X_train, y_train)"
   ]
  },
  {
   "cell_type": "code",
   "execution_count": 45,
   "metadata": {},
   "outputs": [],
   "source": [
    "y_pred_kernel_SVM = kernelSVMPipeline.predict(X_test)"
   ]
  },
  {
   "cell_type": "code",
   "execution_count": 46,
   "metadata": {},
   "outputs": [
    {
     "data": {
      "text/plain": [
       "0.9724770642201834"
      ]
     },
     "execution_count": 46,
     "metadata": {},
     "output_type": "execute_result"
    }
   ],
   "source": [
    "metrics.f1_score(y_test, y_pred_kernel_SVM)"
   ]
  },
  {
   "cell_type": "markdown",
   "metadata": {},
   "source": [
    "Another very good result. In fact, it is the same as the linear SVM because a degree 1 polynomial is a straight line. Perhaps a degree 2 polynomial will be even better?"
   ]
  },
  {
   "cell_type": "code",
   "execution_count": 47,
   "metadata": {},
   "outputs": [
    {
     "data": {
      "text/plain": [
       "0.6526315789473683"
      ]
     },
     "execution_count": 47,
     "metadata": {},
     "output_type": "execute_result"
    }
   ],
   "source": [
    "kernelSVMPipeline = Pipeline([(\"scaler\", StandardScaler())\n",
    "                                ,('KernelSVC',SVC(kernel=\"poly\", C=1.0, degree=2))])\n",
    "kernelSVMPipeline.fit(X_train, y_train)\n",
    "y_pred_kernel_SVM = kernelSVMPipeline.predict(X_test)\n",
    "metrics.f1_score(y_test, y_pred_kernel_SVM)"
   ]
  },
  {
   "cell_type": "markdown",
   "metadata": {},
   "source": [
    "On the contrary, we now see a drastic drop in performance. This is most like due to overfitting since we have given the classfier more degrees of freedom in choosing the shape of the decision boundary."
   ]
  },
  {
   "cell_type": "markdown",
   "metadata": {},
   "source": [
    "## Some final thoughts "
   ]
  },
  {
   "cell_type": "markdown",
   "metadata": {},
   "source": [
    "A few of the other things we could have tried, time permitting:\n",
    "1. Principal components analysis (PCA) to reduce dimensionality\n",
    "2. Hyper parameter exploration\n",
    "3. Using valdation sets and early stopping to prevent overfitting\n",
    "4. Neural networks"
   ]
  }
 ],
 "metadata": {
  "kernelspec": {
   "display_name": "Python 3",
   "language": "python",
   "name": "python3"
  },
  "language_info": {
   "codemirror_mode": {
    "name": "ipython",
    "version": 3
   },
   "file_extension": ".py",
   "mimetype": "text/x-python",
   "name": "python",
   "nbconvert_exporter": "python",
   "pygments_lexer": "ipython3",
   "version": "3.6.4"
  }
 },
 "nbformat": 4,
 "nbformat_minor": 2
}
